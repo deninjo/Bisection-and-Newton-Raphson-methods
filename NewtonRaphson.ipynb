{
 "cells": [
  {
   "cell_type": "code",
   "execution_count": 29,
   "metadata": {},
   "outputs": [],
   "source": [
    "import numpy as np\n",
    "import timeit\n"
   ]
  },
  {
   "cell_type": "code",
   "execution_count": 30,
   "metadata": {},
   "outputs": [],
   "source": [
    "def f(x):\n",
    "    return x**4 - 10\n",
    "def df(x):\n",
    "    return 4*x**3"
   ]
  },
  {
   "cell_type": "code",
   "execution_count": 31,
   "metadata": {},
   "outputs": [],
   "source": [
    "x0 = 1\n",
    "tolerance = 1e-6\n",
    "max_iterr = 100"
   ]
  },
  {
   "cell_type": "code",
   "execution_count": 32,
   "metadata": {},
   "outputs": [
    {
     "name": "stdout",
     "output_type": "stream",
     "text": [
      "Root found at x = 1.78\n",
      "The time taken is  0.03074449999257922\n"
     ]
    }
   ],
   "source": [
    "for i in range(max_iterr):\n",
    "    fx= f(x0)\n",
    "    dfx = df(x0)\n",
    "    x1 = x0 - (fx/dfx)\n",
    "\n",
    "    if abs(f(x1)) < tolerance:\n",
    "        print(f\"Root found at x = {x1:.2f}\")\n",
    "        print(\"The time taken is \",timeit.timeit())\n",
    "        break\n",
    "    else:\n",
    "        x0 = x1\n"
   ]
  },
  {
   "cell_type": "code",
   "execution_count": null,
   "metadata": {},
   "outputs": [],
   "source": []
  }
 ],
 "metadata": {
  "kernelspec": {
   "display_name": "Python 3",
   "language": "python",
   "name": "python3"
  },
  "language_info": {
   "codemirror_mode": {
    "name": "ipython",
    "version": 3
   },
   "file_extension": ".py",
   "mimetype": "text/x-python",
   "name": "python",
   "nbconvert_exporter": "python",
   "pygments_lexer": "ipython3",
   "version": "3.11.2"
  },
  "orig_nbformat": 4
 },
 "nbformat": 4,
 "nbformat_minor": 2
}
